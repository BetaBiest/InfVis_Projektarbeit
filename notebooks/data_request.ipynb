{
 "cells": [
  {
   "cell_type": "markdown",
   "metadata": {},
   "source": [
    "# InfVis project work\n",
    "---\n",
    "This Python Script downloads an up-to-date dataset for **Covid-19**, gives first insights on the data and exports the data to the data folder."
   ]
  },
  {
   "cell_type": "code",
   "execution_count": 16,
   "metadata": {},
   "outputs": [],
   "source": [
    "%matplotlib inline\n",
    "import pandas as pd\n",
    "import numpy as np\n",
    "\n",
    "import io               # file operations\n",
    "import json\n",
    "\n",
    "import ssl              # secure client-server connection\n",
    "import requests         # html-requests"
   ]
  },
  {
   "cell_type": "code",
   "execution_count": 4,
   "metadata": {
    "tags": []
   },
   "outputs": [
    {
     "output_type": "stream",
     "name": "stdout",
     "text": "200\n"
    }
   ],
   "source": [
    "# Make a get request to get the latest position of the international space station from the opennotify api.\n",
    "response = requests.get(\"http://api.open-notify.org/iss-now.json\")\n",
    "# Print the status code of the response.\n",
    "print(response.status_code)"
   ]
  },
  {
   "cell_type": "code",
   "execution_count": 9,
   "metadata": {},
   "outputs": [],
   "source": [
    "url = 'https://services7.arcgis.com/mOBPykOjAyBO2ZKk/arcgis/rest/services/RKI_COVID19/FeatureServer/0/query?where=1%3D1&outFields=Bundesland,AnzahlFall,AnzahlTodesfall,NeuerFall,Datenstand,AnzahlGenesen,IstErkrankungsbeginn,NeuerTodesfall,ObjectId,Landkreis,Meldedatum,Refdatum,NeuGenesen,IdLandkreis,Altersgruppe,IdBundesland&outSR=4326&f=json'"
   ]
  },
  {
   "cell_type": "code",
   "execution_count": 10,
   "metadata": {
    "tags": []
   },
   "outputs": [
    {
     "output_type": "stream",
     "name": "stdout",
     "text": "200\n"
    }
   ],
   "source": [
    "r = requests.get(url)\n",
    "print(r.status_code)"
   ]
  },
  {
   "cell_type": "code",
   "execution_count": 13,
   "metadata": {},
   "outputs": [
    {
     "output_type": "execute_result",
     "data": {
      "text/plain": "{'Content-Type': 'text/plain; charset=utf-8', 'Content-Length': '56384', 'Connection': 'keep-alive', 'Cache-Control': 'public, max-age=3600, s-maxage=3600', 'Content-Encoding': 'gzip', 'Last-Modified': 'Thu, 09 Jul 2020 01:16:28 GMT', 'ETag': 'sd139_-1138325323', 'Server': 'Microsoft-IIS/10.0', 'x-esri-query-request-units': '2', 'X-ArcGIS-Correlation-Id': '|dcfbf625ad3bfa438c5925c9d8c613d2.e2cee2c0_', 'X-ArcGIS-Instance': 'MTSDS_Web_IN_23', 'X-Powered-By': 'ASP.NET', 'Access-Control-Allow-Origin': '*', 'Date': 'Thu, 09 Jul 2020 19:59:03 GMT', 'X-Cache': 'Miss from cloudfront', 'Via': '1.1 784dd167d622737126ee2d76985e7d3c.cloudfront.net (CloudFront)', 'X-Amz-Cf-Pop': 'FRA2-C2', 'X-Amz-Cf-Id': '-sLZsBNnFZG7SVH7HS7lRYEXbze-kE-s3VUVYqoBhGGBn7_req_xmg=='}"
     },
     "metadata": {},
     "execution_count": 13
    }
   ],
   "source": [
    "r.headers"
   ]
  },
  {
   "cell_type": "code",
   "execution_count": 17,
   "metadata": {
    "tags": []
   },
   "outputs": [
    {
     "output_type": "stream",
     "name": "stdout",
     "text": "<class 'dict'>\n"
    }
   ],
   "source": [
    "data = json.loads(r.text)\n",
    "print(type(data))"
   ]
  },
  {
   "cell_type": "code",
   "execution_count": 22,
   "metadata": {
    "tags": []
   },
   "outputs": [
    {
     "output_type": "stream",
     "name": "stdout",
     "text": "Bundesland\nAnzahlFall\nAnzahlTodesfall\nNeuerFall\nDatenstand\nAnzahlGenesen\nIstErkrankungsbeginn\nNeuerTodesfall\nObjectId\nLandkreis\nMeldedatum\nRefdatum\nNeuGenesen\nIdLandkreis\nAltersgruppe\nIdBundesland\n"
    }
   ],
   "source": [
    "for item in data['fields']:\n",
    "    print(item['name'])"
   ]
  },
  {
   "cell_type": "code",
   "execution_count": 26,
   "metadata": {
    "tags": []
   },
   "outputs": [
    {
     "output_type": "stream",
     "name": "stdout",
     "text": "7127 5000\n"
    }
   ],
   "source": [
    "totalCases = 0\n",
    "totalEntries = 0\n",
    "for entry in data['features']:\n",
    "    totalCases += entry['attributes']['AnzahlFall']\n",
    "    totalEntries += 1\n",
    "print(totalCases, entries)"
   ]
  },
  {
   "cell_type": "markdown",
   "metadata": {},
   "source": [
    "Testing commulated data for comparison with numbers from the internet"
   ]
  },
  {
   "cell_type": "code",
   "execution_count": 39,
   "metadata": {
    "tags": []
   },
   "outputs": [
    {
     "output_type": "stream",
     "name": "stdout",
     "text": "Deaths: 153 Recovered: 3005 Entries: 2882\n"
    }
   ],
   "source": [
    "shDeaths = 0\n",
    "shRecovered = 0\n",
    "shEntries = 0\n",
    "for entry in data['features']:\n",
    "    if entry['attributes']['Bundesland'] == 'Schleswig-Holstein':\n",
    "        shDeaths += entry['attributes']['AnzahlTodesfall']\n",
    "        shRecovered += entry['attributes']['AnzahlGenesen']\n",
    "        shEntries += 1\n",
    "print('Deaths:', shDeaths, 'Recovered:', shRecovered, 'Entries:', shEntries)"
   ]
  },
  {
   "cell_type": "code",
   "execution_count": null,
   "metadata": {},
   "outputs": [],
   "source": []
  }
 ],
 "metadata": {
  "language_info": {
   "codemirror_mode": {
    "name": "ipython",
    "version": 3
   },
   "file_extension": ".py",
   "mimetype": "text/x-python",
   "name": "python",
   "nbconvert_exporter": "python",
   "pygments_lexer": "ipython3",
   "version": "3.7.6-final"
  },
  "orig_nbformat": 2,
  "kernelspec": {
   "name": "python37664bitac0d5f4ec08e4e2c9866d97442c37502",
   "display_name": "Python 3.7.6 64-bit"
  }
 },
 "nbformat": 4,
 "nbformat_minor": 2
}