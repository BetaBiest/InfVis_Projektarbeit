{
 "cells": [
  {
   "cell_type": "markdown",
   "metadata": {},
   "source": [
    "# InfVis project work\n",
    "---\n",
    "This Python Script downloads an up-to-date dataset for **Covid-19**, gives first insights on the data and exports the data to the data folder.\n",
    "\n",
    "The Data is from the **R**obert **K**och **I**nstitut downloaded over [ArcGis Hub](https://hub.arcgis.com/datasets/dd4580c810204019a7b8eb3e0b329dd6?page=15976).\n",
    "\n",
    "*Script was created on Python: 3.7.6 64-bit Kernel*"
   ]
  },
  {
   "cell_type": "markdown",
   "metadata": {},
   "source": [
    "## Importing and installing of required packages"
   ]
  },
  {
   "cell_type": "code",
   "execution_count": 68,
   "metadata": {},
   "outputs": [],
   "source": [
    "%matplotlib inline\n",
    "import pandas as pd\n",
    "import numpy as np\n",
    "import math\n",
    "\n",
    "import io               # file operations\n",
    "import json\n",
    "\n",
    "import ssl              # secure client-server connection\n",
    "import requests         # html-requests"
   ]
  },
  {
   "cell_type": "code",
   "execution_count": 111,
   "metadata": {
    "tags": []
   },
   "outputs": [
    {
     "output_type": "stream",
     "name": "stdout",
     "text": "Requirement already satisfied: jsonmerge in a:\\programme\\anaconda\\lib\\site-packages (1.7.0)\nRequirement already satisfied: jsonschema in a:\\programme\\anaconda\\lib\\site-packages (from jsonmerge) (3.2.0)\nRequirement already satisfied: attrs>=17.4.0 in a:\\programme\\anaconda\\lib\\site-packages (from jsonschema->jsonmerge) (19.3.0)\nRequirement already satisfied: setuptools in a:\\programme\\anaconda\\lib\\site-packages (from jsonschema->jsonmerge) (45.2.0.post20200210)\nRequirement already satisfied: six>=1.11.0 in c:\\users\\leo\\appdata\\roaming\\python\\python37\\site-packages (from jsonschema->jsonmerge) (1.14.0)\nRequirement already satisfied: importlib-metadata; python_version < \"3.8\" in a:\\programme\\anaconda\\lib\\site-packages (from jsonschema->jsonmerge) (1.5.0)\nRequirement already satisfied: pyrsistent>=0.14.0 in a:\\programme\\anaconda\\lib\\site-packages (from jsonschema->jsonmerge) (0.15.7)\nRequirement already satisfied: zipp>=0.5 in a:\\programme\\anaconda\\lib\\site-packages (from importlib-metadata; python_version < \"3.8\"->jsonschema->jsonmerge) (2.2.0)\n"
    }
   ],
   "source": [
    "# Uncomment next 2 lines to install jsonmerge\n",
    "#import sys\n",
    "#!{sys.executable} -m pip install jsonmerge\n",
    "from jsonmerge import Merger"
   ]
  },
  {
   "cell_type": "markdown",
   "metadata": {},
   "source": [
    "## Pulling the data from the internet"
   ]
  },
  {
   "cell_type": "markdown",
   "metadata": {},
   "source": [
    "### Defining URL´s\n",
    "URL´s are created from stringconcat."
   ]
  },
  {
   "cell_type": "code",
   "execution_count": 44,
   "metadata": {},
   "outputs": [],
   "source": [
    "sourceURL = 'https://services7.arcgis.com/mOBPykOjAyBO2ZKk/arcgis/rest/services/RKI_COVID19/FeatureServer/0/query?'\n",
    "objectIdsQuery = 'where=1%3D1&returnIdsOnly=true&f=json'\n",
    "dataSetQuery = 'where=ObjectId+BETWEEN+0+AND+0' # just as an example gets created later dynamically\n",
    "dataQuery = '&outSR=4326&outFields=IdBundesland,Bundesland,Landkreis,Altersgruppe,AnzahlFall,AnzahlTodesfall,ObjectId,Meldedatum,IdLandkreis,Datenstand,NeuerFall,NeuerTodesfall,Refdatum,NeuGenesen,AnzahlGenesen,IstErkrankungsbeginn&f=json'"
   ]
  },
  {
   "cell_type": "code",
   "execution_count": 108,
   "metadata": {},
   "outputs": [],
   "source": [
    "jsonMergeSchema = {\"properties\":{\"features\":{\"mergeStrategy\":\"append\"}}}\n",
    "dataMerger = Merger(jsonMergeSchema)"
   ]
  },
  {
   "cell_type": "markdown",
   "metadata": {},
   "source": [
    "### First request\n",
    "Identifies downloadable data."
   ]
  },
  {
   "cell_type": "code",
   "execution_count": 36,
   "metadata": {
    "tags": []
   },
   "outputs": [
    {
     "output_type": "stream",
     "name": "stdout",
     "text": "200\n"
    }
   ],
   "source": [
    "objectIdsRequest = requests.get(sourceURL + objectIdsQuery)\n",
    "objectIdsRequest.status_code"
   ]
  },
  {
   "cell_type": "code",
   "execution_count": 53,
   "metadata": {
    "tags": []
   },
   "outputs": [
    {
     "output_type": "stream",
     "name": "stdout",
     "text": "Number of ObjectIds / Datasets: 159759\nThe download will require 32 requests due to the server limit of 5000 features/request.\nRange of ObjectIds: [17147720, 17307478]\n"
    }
   ],
   "source": [
    "objectIds = json.loads(objectIdsRequest.text)\n",
    "\n",
    "numOfObjectIds = len(objectIds['objectIds'])\n",
    "\n",
    "objectIdStart = objectIds['objectIds'][0]\n",
    "objectIdEnd = objectIds['objectIds'][numOfObjectIds - 1]\n",
    "print(f'Range of ObjectIds: [{objectIdStart}, {objectIdEnd}]')"
   ]
  },
  {
   "cell_type": "markdown",
   "metadata": {},
   "source": [
    "### Secound request\n",
    "Determines eventual limit of data transfered by the server"
   ]
  },
  {
   "cell_type": "code",
   "execution_count": 75,
   "metadata": {},
   "outputs": [
    {
     "output_type": "execute_result",
     "data": {
      "text/plain": "200"
     },
     "metadata": {},
     "execution_count": 75
    }
   ],
   "source": [
    "dataRequest = requests.get(sourceURL + 'where=1%3D1' + dataQuery)\n",
    "dataRequest.status_code"
   ]
  },
  {
   "cell_type": "code",
   "execution_count": 122,
   "metadata": {
    "tags": []
   },
   "outputs": [
    {
     "output_type": "stream",
     "name": "stdout",
     "text": "The download will require 31 more requests due to the server limit of 5000 features/request.\n"
    }
   ],
   "source": [
    "data = json.loads(dataRequest.text)\n",
    "maxApiRequest = len(data['features'])\n",
    "\n",
    "neededRequests = math.ceil(numOfObjectIds / maxApiRequest)\n",
    "\n",
    "print(f'The download will require {neededRequests - 1} more requests due to the server limit of {maxApiRequest} features/request.')"
   ]
  },
  {
   "cell_type": "markdown",
   "metadata": {},
   "source": [
    "Create all requests needed to get the data for every single ObjectId.  \n",
    "**Ensure the cell above is run before this one is!**  \n",
    "Otherwise it **WILL** cause data to be duplicated"
   ]
  },
  {
   "cell_type": "code",
   "execution_count": 123,
   "metadata": {
    "tags": []
   },
   "outputs": [
    {
     "output_type": "stream",
     "name": "stdout",
     "text": "0 Pulling ObjectIds: [17152720, 17157720]\nTotal collected features: 10000 From ObjectIds: [17147720, 17157719]\n1 Pulling ObjectIds: [17157721, 17162721]\nTotal collected features: 15000 From ObjectIds: [17147720, 17162720]\n2 Pulling ObjectIds: [17162722, 17167722]\nTotal collected features: 20000 From ObjectIds: [17147720, 17167721]\n3 Pulling ObjectIds: [17167723, 17172723]\nTotal collected features: 25000 From ObjectIds: [17147720, 17172722]\n4 Pulling ObjectIds: [17172724, 17177724]\nTotal collected features: 30000 From ObjectIds: [17147720, 17177723]\n5 Pulling ObjectIds: [17177725, 17182725]\nTotal collected features: 35000 From ObjectIds: [17147720, 17182724]\n6 Pulling ObjectIds: [17182726, 17187726]\nTotal collected features: 40000 From ObjectIds: [17147720, 17187725]\n7 Pulling ObjectIds: [17187727, 17192727]\nTotal collected features: 45000 From ObjectIds: [17147720, 17192726]\n8 Pulling ObjectIds: [17192728, 17197728]\nTotal collected features: 50000 From ObjectIds: [17147720, 17197727]\n9 Pulling ObjectIds: [17197729, 17202729]\nTotal collected features: 55000 From ObjectIds: [17147720, 17202728]\n10 Pulling ObjectIds: [17202730, 17207730]\nTotal collected features: 60000 From ObjectIds: [17147720, 17207729]\n11 Pulling ObjectIds: [17207731, 17212731]\nTotal collected features: 65000 From ObjectIds: [17147720, 17212730]\n12 Pulling ObjectIds: [17212732, 17217732]\nTotal collected features: 70000 From ObjectIds: [17147720, 17217731]\n13 Pulling ObjectIds: [17217733, 17222733]\nTotal collected features: 75000 From ObjectIds: [17147720, 17222732]\n14 Pulling ObjectIds: [17222734, 17227734]\nTotal collected features: 80000 From ObjectIds: [17147720, 17227733]\n15 Pulling ObjectIds: [17227735, 17232735]\nTotal collected features: 85000 From ObjectIds: [17147720, 17232734]\n16 Pulling ObjectIds: [17232736, 17237736]\nTotal collected features: 90000 From ObjectIds: [17147720, 17237735]\n17 Pulling ObjectIds: [17237737, 17242737]\nTotal collected features: 95000 From ObjectIds: [17147720, 17242736]\n18 Pulling ObjectIds: [17242738, 17247738]\nTotal collected features: 100000 From ObjectIds: [17147720, 17247737]\n19 Pulling ObjectIds: [17247739, 17252739]\nTotal collected features: 105000 From ObjectIds: [17147720, 17252738]\n20 Pulling ObjectIds: [17252740, 17257740]\nTotal collected features: 110000 From ObjectIds: [17147720, 17257739]\n21 Pulling ObjectIds: [17257741, 17262741]\nTotal collected features: 115000 From ObjectIds: [17147720, 17262740]\n22 Pulling ObjectIds: [17262742, 17267742]\nTotal collected features: 120000 From ObjectIds: [17147720, 17267741]\n23 Pulling ObjectIds: [17267743, 17272743]\nTotal collected features: 125000 From ObjectIds: [17147720, 17272742]\n24 Pulling ObjectIds: [17272744, 17277744]\nTotal collected features: 130000 From ObjectIds: [17147720, 17277743]\n25 Pulling ObjectIds: [17277745, 17282745]\nTotal collected features: 135000 From ObjectIds: [17147720, 17282744]\n26 Pulling ObjectIds: [17282746, 17287746]\nTotal collected features: 140000 From ObjectIds: [17147720, 17287745]\n27 Pulling ObjectIds: [17287747, 17292747]\nTotal collected features: 145000 From ObjectIds: [17147720, 17292746]\n28 Pulling ObjectIds: [17292748, 17297748]\nTotal collected features: 150000 From ObjectIds: [17147720, 17297747]\n29 Pulling ObjectIds: [17297749, 17302749]\nTotal collected features: 155000 From ObjectIds: [17147720, 17302748]\n30 Pulling ObjectIds: [17302750, 17307478]\nTotal collected features: 159729 From ObjectIds: [17147720, 17307478]\nDone\n"
    }
   ],
   "source": [
    "i = 0\n",
    "rangeLowerEnd = data['features'][maxApiRequest - 1]['attributes']['ObjectId'] + 1\n",
    "rangeUpperEnd = rangeLowerEnd + maxApiRequest\n",
    "\n",
    "while (i < neededRequests - 1): # neededRequests - 1 because of initial download\n",
    "    dataSetQuery = f'where=ObjectId+BETWEEN+{rangeLowerEnd}+AND+{rangeUpperEnd}'\n",
    "    temp_sourceURL = sourceURL + dataSetQuery + dataQuery\n",
    "    #print(i, temp_sourceURL)\n",
    "    print(i, f'Pulling ObjectIds: [{rangeLowerEnd}, {rangeUpperEnd}]')\n",
    "\n",
    "    temp_dataRequest = requests.get(temp_sourceURL)\n",
    "    if (temp_dataRequest.status_code > 200): # stop when a request isn´t working\n",
    "        print(temp_dataRequest.status_code)\n",
    "        break\n",
    "\n",
    "    temp_data = json.loads(temp_dataRequest.text)\n",
    "\n",
    "    data = dataMerger.merge(data, temp_data)\n",
    "\n",
    "    temp_dataLength = len(data['features'])\n",
    "    t_le = data['features'][0]['attributes']['ObjectId']\n",
    "    t_ue = data['features'][temp_dataLength - 1]['attributes']['ObjectId']\n",
    "    print(f'Total collected features: {temp_dataLength}', f'From ObjectIds: [{t_le}, {t_ue}]')\n",
    "\n",
    "    rangeLowerEnd = rangeUpperEnd + 1\n",
    "    rangeUpperEnd += maxApiRequest + 1\n",
    "    if (rangeUpperEnd > objectIdEnd):\n",
    "        rangeUpperEnd = objectIdEnd\n",
    "    i += 1\n",
    "\n",
    "print('Done')"
   ]
  },
  {
   "cell_type": "code",
   "execution_count": 116,
   "metadata": {
    "tags": []
   },
   "outputs": [
    {
     "output_type": "stream",
     "name": "stdout",
     "text": "IdBundesland\nBundesland\nLandkreis\nAltersgruppe\nAnzahlFall\nAnzahlTodesfall\nObjectId\nMeldedatum\nIdLandkreis\nDatenstand\nNeuerFall\nNeuerTodesfall\nRefdatum\nNeuGenesen\nAnzahlGenesen\nIstErkrankungsbeginn\n"
    }
   ],
   "source": [
    "for item in data['fields']:\n",
    "    print(item['name'])"
   ]
  },
  {
   "cell_type": "markdown",
   "metadata": {},
   "source": [
    "Maximum number of features per query"
   ]
  },
  {
   "cell_type": "code",
   "execution_count": 117,
   "metadata": {},
   "outputs": [
    {
     "output_type": "execute_result",
     "data": {
      "text/plain": "159729"
     },
     "metadata": {},
     "execution_count": 117
    }
   ],
   "source": [
    "len(data['features'])"
   ]
  },
  {
   "cell_type": "code",
   "execution_count": 118,
   "metadata": {
    "tags": []
   },
   "outputs": [
    {
     "output_type": "execute_result",
     "data": {
      "text/plain": "198093"
     },
     "metadata": {},
     "execution_count": 118
    }
   ],
   "source": [
    "totalCases = 0\n",
    "for entry in data['features']:\n",
    "    totalCases += entry['attributes']['AnzahlFall']\n",
    "totalCases"
   ]
  },
  {
   "cell_type": "markdown",
   "metadata": {},
   "source": [
    "Testing commulated data for comparison with numbers from the internet"
   ]
  },
  {
   "cell_type": "code",
   "execution_count": 124,
   "metadata": {
    "tags": []
   },
   "outputs": [
    {
     "output_type": "stream",
     "name": "stdout",
     "text": "Deaths: 154 Recovered: 3011 Entries: 2884\n"
    }
   ],
   "source": [
    "shDeaths = 0\n",
    "shRecovered = 0\n",
    "shEntries = 0\n",
    "for entry in data['features']:\n",
    "    if entry['attributes']['Bundesland'] == 'Schleswig-Holstein':\n",
    "        shDeaths += entry['attributes']['AnzahlTodesfall']\n",
    "        shRecovered += entry['attributes']['AnzahlGenesen']\n",
    "        shEntries += 1\n",
    "print('Deaths:', shDeaths, 'Recovered:', shRecovered, 'Entries:', shEntries)"
   ]
  },
  {
   "cell_type": "code",
   "execution_count": null,
   "metadata": {},
   "outputs": [],
   "source": []
  }
 ],
 "metadata": {
  "language_info": {
   "codemirror_mode": {
    "name": "ipython",
    "version": 3
   },
   "file_extension": ".py",
   "mimetype": "text/x-python",
   "name": "python",
   "nbconvert_exporter": "python",
   "pygments_lexer": "ipython3",
   "version": "3.7.6-final"
  },
  "orig_nbformat": 2,
  "kernelspec": {
   "name": "python37664bitac0d5f4ec08e4e2c9866d97442c37502",
   "display_name": "Python 3.7.6 64-bit"
  }
 },
 "nbformat": 4,
 "nbformat_minor": 2
}