{
 "cells": [
  {
   "cell_type": "markdown",
   "metadata": {},
   "source": [
    "# InfVis project work\n",
    "---\n",
    "This Python Script downloads an up-to-date dataset for **Covid-19**, gives first insights on the data and exports the data to the data folder.\n",
    "\n",
    "The Data is from the **R**obert **K**och **I**nstitut downloaded over [ArcGis Hub](https://hub.arcgis.com/datasets/dd4580c810204019a7b8eb3e0b329dd6?page=15976).\n",
    "\n",
    "*Script was created on Python: 3.7.6 64-bit Kernel*"
   ]
  },
  {
   "cell_type": "markdown",
   "metadata": {},
   "source": [
    "## Importing and installing of required packages"
   ]
  },
  {
   "cell_type": "code",
   "execution_count": 32,
   "metadata": {},
   "outputs": [],
   "source": [
    "%matplotlib inline\n",
    "import pandas as pd\n",
    "import matplotlib.pyplot as plt\n",
    "import numpy as np\n",
    "import math\n",
    "\n",
    "import io               # file operations\n",
    "import json\n",
    "\n",
    "import ssl              # secure client-server connection\n",
    "import requests         # html-requests"
   ]
  },
  {
   "cell_type": "code",
   "execution_count": 2,
   "metadata": {
    "tags": []
   },
   "outputs": [],
   "source": [
    "# Uncomment next 2 lines to install jsonmerge\n",
    "#import sys\n",
    "#!{sys.executable} -m pip install jsonmerge\n",
    "from jsonmerge import Merger"
   ]
  },
  {
   "cell_type": "markdown",
   "metadata": {},
   "source": [
    "## Pulling the data from the internet"
   ]
  },
  {
   "cell_type": "markdown",
   "metadata": {},
   "source": [
    "### Defining URL´s\n",
    "URL´s are created from stringconcat."
   ]
  },
  {
   "cell_type": "code",
   "execution_count": 3,
   "metadata": {},
   "outputs": [],
   "source": [
    "sourceURL = 'https://services7.arcgis.com/mOBPykOjAyBO2ZKk/arcgis/rest/services/RKI_COVID19/FeatureServer/0/query?'\n",
    "objectIdsQuery = 'where=1%3D1&returnIdsOnly=true&f=json'\n",
    "dataSetQuery = 'where=ObjectId+BETWEEN+0+AND+0' # just as an example gets created later dynamically\n",
    "dataQuery = '&outSR=4326&outFields=IdBundesland,Bundesland,Landkreis,Altersgruppe,AnzahlFall,AnzahlTodesfall,ObjectId,Meldedatum,IdLandkreis,Datenstand,NeuerFall,NeuerTodesfall,Refdatum,NeuGenesen,AnzahlGenesen,IstErkrankungsbeginn&f=json'"
   ]
  },
  {
   "cell_type": "code",
   "execution_count": 4,
   "metadata": {},
   "outputs": [],
   "source": [
    "jsonMergeSchema = {\"properties\":{\"features\":{\"mergeStrategy\":\"append\"}}}\n",
    "dataMerger = Merger(jsonMergeSchema)"
   ]
  },
  {
   "cell_type": "markdown",
   "metadata": {},
   "source": [
    "### First request\n",
    "Identifies downloadable data."
   ]
  },
  {
   "cell_type": "code",
   "execution_count": 5,
   "metadata": {
    "tags": []
   },
   "outputs": [
    {
     "output_type": "execute_result",
     "data": {
      "text/plain": "200"
     },
     "metadata": {},
     "execution_count": 5
    }
   ],
   "source": [
    "objectIdsRequest = requests.get(sourceURL + objectIdsQuery)\n",
    "objectIdsRequest.status_code"
   ]
  },
  {
   "cell_type": "code",
   "execution_count": 6,
   "metadata": {
    "tags": []
   },
   "outputs": [
    {
     "output_type": "stream",
     "name": "stdout",
     "text": "Range of ObjectIds: [20998268, 21159421]\n"
    }
   ],
   "source": [
    "objectIds = json.loads(objectIdsRequest.text)\n",
    "\n",
    "numOfObjectIds = len(objectIds['objectIds'])\n",
    "\n",
    "objectIdStart = objectIds['objectIds'][0]\n",
    "objectIdEnd = objectIds['objectIds'][numOfObjectIds - 1]\n",
    "print(f'Range of ObjectIds: [{objectIdStart}, {objectIdEnd}]')"
   ]
  },
  {
   "cell_type": "markdown",
   "metadata": {},
   "source": [
    "### Secound request\n",
    "Determines eventual limit of data transfered by the server"
   ]
  },
  {
   "cell_type": "code",
   "execution_count": 7,
   "metadata": {},
   "outputs": [
    {
     "output_type": "execute_result",
     "data": {
      "text/plain": "200"
     },
     "metadata": {},
     "execution_count": 7
    }
   ],
   "source": [
    "dataRequest = requests.get(sourceURL + 'where=1%3D1' + dataQuery)\n",
    "dataRequest.status_code"
   ]
  },
  {
   "cell_type": "code",
   "execution_count": 8,
   "metadata": {
    "tags": []
   },
   "outputs": [
    {
     "output_type": "stream",
     "name": "stdout",
     "text": "The download will require 32 more requests due to the server limit of 5000 features/request.\n"
    }
   ],
   "source": [
    "data = json.loads(dataRequest.text)\n",
    "maxApiRequest = len(data['features'])\n",
    "\n",
    "neededRequests = math.ceil(numOfObjectIds / maxApiRequest)\n",
    "\n",
    "print(f'The download will require {neededRequests - 1} more requests due to the server limit of {maxApiRequest} features/request.')"
   ]
  },
  {
   "cell_type": "markdown",
   "metadata": {},
   "source": [
    "Create all requests needed to get the data for every single ObjectId.  \n",
    "**Ensure the cell above is run before this one is!**  \n",
    "Otherwise it **WILL** cause data to be duplicated"
   ]
  },
  {
   "cell_type": "code",
   "execution_count": 9,
   "metadata": {
    "tags": []
   },
   "outputs": [
    {
     "output_type": "stream",
     "name": "stdout",
     "text": "0 Pulling ObjectIds: [21003268, 21008268]\nTotal collected features: 10000 From ObjectIds: [20998268, 21008267]\n1 Pulling ObjectIds: [21008269, 21013269]\nTotal collected features: 15000 From ObjectIds: [20998268, 21013268]\n2 Pulling ObjectIds: [21013270, 21018270]\nTotal collected features: 20000 From ObjectIds: [20998268, 21018269]\n3 Pulling ObjectIds: [21018271, 21023271]\nTotal collected features: 25000 From ObjectIds: [20998268, 21023270]\n4 Pulling ObjectIds: [21023272, 21028272]\nTotal collected features: 30000 From ObjectIds: [20998268, 21028271]\n5 Pulling ObjectIds: [21028273, 21033273]\nTotal collected features: 35000 From ObjectIds: [20998268, 21033272]\n6 Pulling ObjectIds: [21033274, 21038274]\nTotal collected features: 40000 From ObjectIds: [20998268, 21038273]\n7 Pulling ObjectIds: [21038275, 21043275]\nTotal collected features: 45000 From ObjectIds: [20998268, 21043274]\n8 Pulling ObjectIds: [21043276, 21048276]\nTotal collected features: 50000 From ObjectIds: [20998268, 21048275]\n9 Pulling ObjectIds: [21048277, 21053277]\nTotal collected features: 55000 From ObjectIds: [20998268, 21053276]\n10 Pulling ObjectIds: [21053278, 21058278]\nTotal collected features: 60000 From ObjectIds: [20998268, 21058277]\n11 Pulling ObjectIds: [21058279, 21063279]\nTotal collected features: 65000 From ObjectIds: [20998268, 21063278]\n12 Pulling ObjectIds: [21063280, 21068280]\nTotal collected features: 70000 From ObjectIds: [20998268, 21068279]\n13 Pulling ObjectIds: [21068281, 21073281]\nTotal collected features: 75000 From ObjectIds: [20998268, 21073280]\n14 Pulling ObjectIds: [21073282, 21078282]\nTotal collected features: 80000 From ObjectIds: [20998268, 21078281]\n15 Pulling ObjectIds: [21078283, 21083283]\nTotal collected features: 85000 From ObjectIds: [20998268, 21083282]\n16 Pulling ObjectIds: [21083284, 21088284]\nTotal collected features: 90000 From ObjectIds: [20998268, 21088283]\n17 Pulling ObjectIds: [21088285, 21093285]\nTotal collected features: 95000 From ObjectIds: [20998268, 21093284]\n18 Pulling ObjectIds: [21093286, 21098286]\nTotal collected features: 100000 From ObjectIds: [20998268, 21098285]\n19 Pulling ObjectIds: [21098287, 21103287]\nTotal collected features: 105000 From ObjectIds: [20998268, 21103286]\n20 Pulling ObjectIds: [21103288, 21108288]\nTotal collected features: 110000 From ObjectIds: [20998268, 21108287]\n21 Pulling ObjectIds: [21108289, 21113289]\nTotal collected features: 115000 From ObjectIds: [20998268, 21113288]\n22 Pulling ObjectIds: [21113290, 21118290]\nTotal collected features: 120000 From ObjectIds: [20998268, 21118289]\n23 Pulling ObjectIds: [21118291, 21123291]\nTotal collected features: 125000 From ObjectIds: [20998268, 21123290]\n24 Pulling ObjectIds: [21123292, 21128292]\nTotal collected features: 130000 From ObjectIds: [20998268, 21128291]\n25 Pulling ObjectIds: [21128293, 21133293]\nTotal collected features: 135000 From ObjectIds: [20998268, 21133292]\n26 Pulling ObjectIds: [21133294, 21138294]\nTotal collected features: 140000 From ObjectIds: [20998268, 21138293]\n27 Pulling ObjectIds: [21138295, 21143295]\nTotal collected features: 145000 From ObjectIds: [20998268, 21143294]\n28 Pulling ObjectIds: [21143296, 21148296]\nTotal collected features: 150000 From ObjectIds: [20998268, 21148295]\n29 Pulling ObjectIds: [21148297, 21153297]\nTotal collected features: 155000 From ObjectIds: [20998268, 21153296]\n30 Pulling ObjectIds: [21153298, 21158298]\nTotal collected features: 160000 From ObjectIds: [20998268, 21158297]\n31 Pulling ObjectIds: [21158299, 21159421]\nTotal collected features: 161123 From ObjectIds: [20998268, 21159421]\nDone\n"
    }
   ],
   "source": [
    "i = 0\n",
    "rangeLowerEnd = data['features'][maxApiRequest - 1]['attributes']['ObjectId'] + 1\n",
    "rangeUpperEnd = rangeLowerEnd + maxApiRequest\n",
    "\n",
    "while (i < neededRequests - 1): # neededRequests - 1 because of initial download\n",
    "    dataSetQuery = f'where=ObjectId+BETWEEN+{rangeLowerEnd}+AND+{rangeUpperEnd}'\n",
    "    temp_sourceURL = sourceURL + dataSetQuery + dataQuery\n",
    "    #print(i, temp_sourceURL)\n",
    "    print(i, f'Pulling ObjectIds: [{rangeLowerEnd}, {rangeUpperEnd}]')\n",
    "\n",
    "    temp_dataRequest = requests.get(temp_sourceURL)\n",
    "    if (temp_dataRequest.status_code > 200): # stop when a request isn´t working\n",
    "        print(temp_dataRequest.status_code)\n",
    "        break\n",
    "\n",
    "    temp_data = json.loads(temp_dataRequest.text)\n",
    "\n",
    "    data = dataMerger.merge(data, temp_data)\n",
    "\n",
    "    temp_dataLength = len(data['features'])\n",
    "    t_le = data['features'][0]['attributes']['ObjectId']\n",
    "    t_ue = data['features'][temp_dataLength - 1]['attributes']['ObjectId']\n",
    "    print(f'Total collected features: {temp_dataLength}', f'From ObjectIds: [{t_le}, {t_ue}]')\n",
    "\n",
    "    rangeLowerEnd = rangeUpperEnd + 1\n",
    "    rangeUpperEnd += maxApiRequest + 1\n",
    "    if (rangeUpperEnd > objectIdEnd):\n",
    "        rangeUpperEnd = objectIdEnd\n",
    "    i += 1\n",
    "\n",
    "print('Done')"
   ]
  },
  {
   "cell_type": "code",
   "execution_count": 10,
   "metadata": {
    "tags": []
   },
   "outputs": [
    {
     "output_type": "stream",
     "name": "stdout",
     "text": "IdBundesland\nBundesland\nLandkreis\nAltersgruppe\nAnzahlFall\nAnzahlTodesfall\nObjectId\nMeldedatum\nIdLandkreis\nDatenstand\nNeuerFall\nNeuerTodesfall\nRefdatum\nNeuGenesen\nAnzahlGenesen\nIstErkrankungsbeginn\n"
    }
   ],
   "source": [
    "for item in data['fields']:\n",
    "    print(item['name'])"
   ]
  },
  {
   "cell_type": "code",
   "execution_count": 11,
   "metadata": {},
   "outputs": [
    {
     "output_type": "execute_result",
     "data": {
      "text/plain": "161123"
     },
     "metadata": {},
     "execution_count": 11
    }
   ],
   "source": [
    "len(data['features'])"
   ]
  },
  {
   "cell_type": "code",
   "execution_count": 12,
   "metadata": {
    "tags": []
   },
   "outputs": [
    {
     "output_type": "execute_result",
     "data": {
      "text/plain": "199677"
     },
     "metadata": {},
     "execution_count": 12
    }
   ],
   "source": [
    "totalCases = 0\n",
    "for entry in data['features']:\n",
    "    totalCases += entry['attributes']['AnzahlFall']\n",
    "totalCases"
   ]
  },
  {
   "cell_type": "markdown",
   "metadata": {},
   "source": [
    "Testing commulated data for comparison with numbers from the internet"
   ]
  },
  {
   "cell_type": "code",
   "execution_count": 13,
   "metadata": {
    "tags": []
   },
   "outputs": [
    {
     "output_type": "stream",
     "name": "stdout",
     "text": "Deaths: 154 Recovered: 3029 Entries: 2912\n"
    }
   ],
   "source": [
    "shDeaths = 0\n",
    "shRecovered = 0\n",
    "shEntries = 0\n",
    "for entry in data['features']:\n",
    "    if entry['attributes']['Bundesland'] == 'Schleswig-Holstein':\n",
    "        shDeaths += entry['attributes']['AnzahlTodesfall']\n",
    "        shRecovered += entry['attributes']['AnzahlGenesen']\n",
    "        shEntries += 1\n",
    "print('Deaths:', shDeaths, 'Recovered:', shRecovered, 'Entries:', shEntries)"
   ]
  },
  {
   "cell_type": "code",
   "execution_count": 14,
   "metadata": {},
   "outputs": [],
   "source": [
    "def display_n(df,n): \n",
    "    with pd.option_context('display.max_rows',n*2):\n",
    "        display(df)"
   ]
  },
  {
   "cell_type": "code",
   "execution_count": 25,
   "metadata": {},
   "outputs": [
    {
     "output_type": "display_data",
     "data": {
      "text/plain": "                                               attributes\n0       {'IdBundesland': 1, 'Bundesland': 'Schleswig-H...\n1       {'IdBundesland': 1, 'Bundesland': 'Schleswig-H...\n...                                                   ...\n161121  {'IdBundesland': 16, 'Bundesland': 'Thüringen'...\n161122  {'IdBundesland': 16, 'Bundesland': 'Thüringen'...\n\n[161123 rows x 1 columns]",
      "text/html": "<div>\n<style scoped>\n    .dataframe tbody tr th:only-of-type {\n        vertical-align: middle;\n    }\n\n    .dataframe tbody tr th {\n        vertical-align: top;\n    }\n\n    .dataframe thead th {\n        text-align: right;\n    }\n</style>\n<table border=\"1\" class=\"dataframe\">\n  <thead>\n    <tr style=\"text-align: right;\">\n      <th></th>\n      <th>attributes</th>\n    </tr>\n  </thead>\n  <tbody>\n    <tr>\n      <th>0</th>\n      <td>{'IdBundesland': 1, 'Bundesland': 'Schleswig-H...</td>\n    </tr>\n    <tr>\n      <th>1</th>\n      <td>{'IdBundesland': 1, 'Bundesland': 'Schleswig-H...</td>\n    </tr>\n    <tr>\n      <th>...</th>\n      <td>...</td>\n    </tr>\n    <tr>\n      <th>161121</th>\n      <td>{'IdBundesland': 16, 'Bundesland': 'Thüringen'...</td>\n    </tr>\n    <tr>\n      <th>161122</th>\n      <td>{'IdBundesland': 16, 'Bundesland': 'Thüringen'...</td>\n    </tr>\n  </tbody>\n</table>\n<p>161123 rows × 1 columns</p>\n</div>"
     },
     "metadata": {}
    }
   ],
   "source": [
    "dfx = pd.DataFrame.from_dict(data['features'])\n",
    "display_n(dfx, 2)"
   ]
  },
  {
   "cell_type": "code",
   "execution_count": 28,
   "metadata": {},
   "outputs": [],
   "source": [
    "# turning the collumn attributes in seperated collumns\n",
    "for rowid in data['fields']:\n",
    "    dfx[rowid['name']] = dfx.apply(lambda row: row.loc['attributes'][rowid['name']], axis=1)\n",
    "dfx = dfx.drop(['attributes'], axis=1)"
   ]
  },
  {
   "cell_type": "code",
   "execution_count": 29,
   "metadata": {},
   "outputs": [
    {
     "output_type": "display_data",
     "data": {
      "text/plain": "        IdBundesland          Bundesland            Landkreis Altersgruppe  \\\n0                  1  Schleswig-Holstein         SK Flensburg      A15-A34   \n1                  1  Schleswig-Holstein         SK Flensburg      A15-A34   \n...              ...                 ...                  ...          ...   \n161121            16           Thüringen  LK Altenburger Land         A80+   \n161122            16           Thüringen  LK Altenburger Land         A80+   \n\n        AnzahlFall  AnzahlTodesfall  ObjectId     Meldedatum IdLandkreis  \\\n0                1                0  20998268  1584144000000       01001   \n1                1                0  20998269  1584576000000       01001   \n...            ...              ...       ...            ...         ...   \n161121           2                0  21159420  1590624000000       16077   \n161122           1                0  21159421  1591660800000       16077   \n\n                   Datenstand  NeuerFall  NeuerTodesfall       Refdatum  \\\n0       15.07.2020, 00:00 Uhr          0              -9  1584316800000   \n1       15.07.2020, 00:00 Uhr          0              -9  1584057600000   \n...                       ...        ...             ...            ...   \n161121  15.07.2020, 00:00 Uhr          0              -9  1590624000000   \n161122  15.07.2020, 00:00 Uhr          0              -9  1591660800000   \n\n        NeuGenesen  AnzahlGenesen  IstErkrankungsbeginn  \n0                0              1                     1  \n1                0              1                     1  \n...            ...            ...                   ...  \n161121           0              2                     0  \n161122           0              1                     0  \n\n[161123 rows x 16 columns]",
      "text/html": "<div>\n<style scoped>\n    .dataframe tbody tr th:only-of-type {\n        vertical-align: middle;\n    }\n\n    .dataframe tbody tr th {\n        vertical-align: top;\n    }\n\n    .dataframe thead th {\n        text-align: right;\n    }\n</style>\n<table border=\"1\" class=\"dataframe\">\n  <thead>\n    <tr style=\"text-align: right;\">\n      <th></th>\n      <th>IdBundesland</th>\n      <th>Bundesland</th>\n      <th>Landkreis</th>\n      <th>Altersgruppe</th>\n      <th>AnzahlFall</th>\n      <th>AnzahlTodesfall</th>\n      <th>ObjectId</th>\n      <th>Meldedatum</th>\n      <th>IdLandkreis</th>\n      <th>Datenstand</th>\n      <th>NeuerFall</th>\n      <th>NeuerTodesfall</th>\n      <th>Refdatum</th>\n      <th>NeuGenesen</th>\n      <th>AnzahlGenesen</th>\n      <th>IstErkrankungsbeginn</th>\n    </tr>\n  </thead>\n  <tbody>\n    <tr>\n      <th>0</th>\n      <td>1</td>\n      <td>Schleswig-Holstein</td>\n      <td>SK Flensburg</td>\n      <td>A15-A34</td>\n      <td>1</td>\n      <td>0</td>\n      <td>20998268</td>\n      <td>1584144000000</td>\n      <td>01001</td>\n      <td>15.07.2020, 00:00 Uhr</td>\n      <td>0</td>\n      <td>-9</td>\n      <td>1584316800000</td>\n      <td>0</td>\n      <td>1</td>\n      <td>1</td>\n    </tr>\n    <tr>\n      <th>1</th>\n      <td>1</td>\n      <td>Schleswig-Holstein</td>\n      <td>SK Flensburg</td>\n      <td>A15-A34</td>\n      <td>1</td>\n      <td>0</td>\n      <td>20998269</td>\n      <td>1584576000000</td>\n      <td>01001</td>\n      <td>15.07.2020, 00:00 Uhr</td>\n      <td>0</td>\n      <td>-9</td>\n      <td>1584057600000</td>\n      <td>0</td>\n      <td>1</td>\n      <td>1</td>\n    </tr>\n    <tr>\n      <th>...</th>\n      <td>...</td>\n      <td>...</td>\n      <td>...</td>\n      <td>...</td>\n      <td>...</td>\n      <td>...</td>\n      <td>...</td>\n      <td>...</td>\n      <td>...</td>\n      <td>...</td>\n      <td>...</td>\n      <td>...</td>\n      <td>...</td>\n      <td>...</td>\n      <td>...</td>\n      <td>...</td>\n    </tr>\n    <tr>\n      <th>161121</th>\n      <td>16</td>\n      <td>Thüringen</td>\n      <td>LK Altenburger Land</td>\n      <td>A80+</td>\n      <td>2</td>\n      <td>0</td>\n      <td>21159420</td>\n      <td>1590624000000</td>\n      <td>16077</td>\n      <td>15.07.2020, 00:00 Uhr</td>\n      <td>0</td>\n      <td>-9</td>\n      <td>1590624000000</td>\n      <td>0</td>\n      <td>2</td>\n      <td>0</td>\n    </tr>\n    <tr>\n      <th>161122</th>\n      <td>16</td>\n      <td>Thüringen</td>\n      <td>LK Altenburger Land</td>\n      <td>A80+</td>\n      <td>1</td>\n      <td>0</td>\n      <td>21159421</td>\n      <td>1591660800000</td>\n      <td>16077</td>\n      <td>15.07.2020, 00:00 Uhr</td>\n      <td>0</td>\n      <td>-9</td>\n      <td>1591660800000</td>\n      <td>0</td>\n      <td>1</td>\n      <td>0</td>\n    </tr>\n  </tbody>\n</table>\n<p>161123 rows × 16 columns</p>\n</div>"
     },
     "metadata": {}
    }
   ],
   "source": [
    "display_n(dfx, 2)"
   ]
  },
  {
   "cell_type": "code",
   "execution_count": 83,
   "metadata": {},
   "outputs": [
    {
     "output_type": "display_data",
     "data": {
      "text/plain": "                    AnzahlFall  AnzahlTodesfall  AnzahlGenesen\nBundesland                                                    \nBaden-Württemberg        36157             1838          33801\nBayern                   49416             2613          45920\n...                        ...              ...            ...\nSchleswig-Holstein        3228              154           3029\nThüringen                 3300              182           3073\n\n[16 rows x 3 columns]",
      "text/html": "<div>\n<style scoped>\n    .dataframe tbody tr th:only-of-type {\n        vertical-align: middle;\n    }\n\n    .dataframe tbody tr th {\n        vertical-align: top;\n    }\n\n    .dataframe thead th {\n        text-align: right;\n    }\n</style>\n<table border=\"1\" class=\"dataframe\">\n  <thead>\n    <tr style=\"text-align: right;\">\n      <th></th>\n      <th>AnzahlFall</th>\n      <th>AnzahlTodesfall</th>\n      <th>AnzahlGenesen</th>\n    </tr>\n    <tr>\n      <th>Bundesland</th>\n      <th></th>\n      <th></th>\n      <th></th>\n    </tr>\n  </thead>\n  <tbody>\n    <tr>\n      <th>Baden-Württemberg</th>\n      <td>36157</td>\n      <td>1838</td>\n      <td>33801</td>\n    </tr>\n    <tr>\n      <th>Bayern</th>\n      <td>49416</td>\n      <td>2613</td>\n      <td>45920</td>\n    </tr>\n    <tr>\n      <th>...</th>\n      <td>...</td>\n      <td>...</td>\n      <td>...</td>\n    </tr>\n    <tr>\n      <th>Schleswig-Holstein</th>\n      <td>3228</td>\n      <td>154</td>\n      <td>3029</td>\n    </tr>\n    <tr>\n      <th>Thüringen</th>\n      <td>3300</td>\n      <td>182</td>\n      <td>3073</td>\n    </tr>\n  </tbody>\n</table>\n<p>16 rows × 3 columns</p>\n</div>"
     },
     "metadata": {}
    }
   ],
   "source": [
    "frame_byBundesland = dfx.groupby(['Bundesland'])['AnzahlFall', 'AnzahlTodesfall', 'AnzahlGenesen'].sum().reset_index()\n",
    "frame_byBundesland = frame_byBundesland.set_index('Bundesland')\n",
    "display_n(frame_byBundesland, 2)"
   ]
  },
  {
   "cell_type": "code",
   "execution_count": 87,
   "metadata": {},
   "outputs": [],
   "source": [
    "frame_byBundesland = frame_byBundesland.sort_values(by='AnzahlFall', ascending=False)\n",
    "ax = frame_byBundesland.plot.bar(figsize=(8,8))"
   ]
  },
  {
   "cell_type": "code",
   "execution_count": null,
   "metadata": {},
   "outputs": [],
   "source": []
  }
 ],
 "metadata": {
  "language_info": {
   "codemirror_mode": {
    "name": "ipython",
    "version": 3
   },
   "file_extension": ".py",
   "mimetype": "text/x-python",
   "name": "python",
   "nbconvert_exporter": "python",
   "pygments_lexer": "ipython3",
   "version": "3.7.6-final"
  },
  "orig_nbformat": 2,
  "kernelspec": {
   "name": "python_defaultSpec_1594807233725",
   "display_name": "Python 3.7.6 64-bit ('base': conda)"
  }
 },
 "nbformat": 4,
 "nbformat_minor": 2
}